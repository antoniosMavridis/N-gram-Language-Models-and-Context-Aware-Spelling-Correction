{
 "cells": [
  {
   "cell_type": "markdown",
   "id": "43dfc96a",
   "metadata": {
    "id": "43dfc96a"
   },
   "source": [
    "### Levenshtein Distance"
   ]
  },
  {
   "cell_type": "markdown",
   "id": "0c6d3fb7",
   "metadata": {
    "id": "0c6d3fb7"
   },
   "source": [
    "The **levenshtein_distance function** implements the Levenshtein distance algorithm, which is a measure of the difference between two strings. The function takes five arguments: **s1** and **s2** are the two strings to compare, **ins_cost**, **del_cost**, and **sub_cost** are the costs for <ins>inserting</ins>, <ins>deleting</ins>, and <ins>substituting</ins> a character, respectively.\n",
    "\n",
    "The function first initializes a matrix **dp** with zeros of size **m+1** by **n+1**, where **m** and **n** are the lengths of **s1** and **s2**, respectively. It then initializes the first row and column of the matrix with the cost of deleting and inserting characters, respectively.\n",
    "\n",
    "The matrix is then filled in using a nested loop over the indices **i** and **j**. Specifically, it iterates from 1 to **m**(inclusive), and for each **i**, it iterates from 1 to **n** (inclusive), and for each **j**, it computes the Levenshtein distance between the prefixes **s1[0:i]** and **s2[0:j]**.\n",
    "\n",
    "If the characters at position **i-1** in **s1** and position **j-1** in **s2** are the same, then the Levenshtein distance is the same as the distance between the prefixes **s1[0:i-1]** and **s2[0:j-1]**. Otherwise, the distance can be computed by taking the minimum of three possible distances:\n",
    "\n",
    "1. The distance between **s1[0:i-1]** and **s2[0:j]**, plus the cost of deleting the character at position **i-1** in **s1**.\n",
    "2. The distance between **s1[0:i]** and **s2[0:j-1]**, plus the cost of inserting the character at position **j-1** in **s2**.\n",
    "3. The distance between **s1[0:i-1]** and **s2[0:j-1]**, plus the cost of substituting/replace the character at position **i-1** in **s1** with the character at position **j-1** in **s2**.\n",
    "\n",
    "After the matrix is filled in, the function prints out the Levenshtein table, which shows the values of the **matrix dp**.\n",
    "\n",
    "Finally, the function returns the Levenshtein distance between **s1** and **s2**, which is the value stored in **dp[m][n]**."
   ]
  },
  {
   "cell_type": "code",
   "execution_count": 1,
   "id": "f67706f7",
   "metadata": {
    "executionInfo": {
     "elapsed": 7,
     "status": "ok",
     "timestamp": 1682717858228,
     "user": {
      "displayName": "Αντώνης Μαυρίδης",
      "userId": "12394221797347324035"
     },
     "user_tz": -180
    },
    "id": "f67706f7"
   },
   "outputs": [],
   "source": [
    "def levenshtein_distance(s1, s2, ins_cost, del_cost, sub_cost):\n",
    "    m = len(s1)\n",
    "    n = len(s2)\n",
    "\n",
    "    # Initialize the matrix with zeros\n",
    "    dp = [[0 for j in range(n+1)] for i in range(m+1)]\n",
    "    \n",
    "    # Initialize the first row and column\n",
    "    for i in range(1, m+1):\n",
    "        dp[i][0] = i * del_cost\n",
    "    for j in range(1, n+1):\n",
    "        dp[0][j] = j * ins_cost\n",
    "    \n",
    "    # Fill in the rest of the matrix\n",
    "    for i in range(1, m+1):\n",
    "        for j in range(1, n+1):\n",
    "            if s1[i-1] == s2[j-1]:\n",
    "                dp[i][j] = dp[i-1][j-1]\n",
    "            else:\n",
    "                del_distance = dp[i-1][j] + del_cost\n",
    "                ins_distance = dp[i][j-1] + ins_cost\n",
    "                sub_distance = dp[i-1][j-1] + sub_cost\n",
    "                dp[i][j] = min(del_distance, ins_distance, sub_distance)\n",
    "    \n",
    "    # Display the Levenshtein table \n",
    "    print(\"\"+\"Levenshtein table:\" + \" \\n\")\n",
    "    print(\"   # \" + \" \".join(list(s2)))\n",
    "    for i in range(m+1):\n",
    "        if i == 0:\n",
    "             print(\"#\" + \" \", end=\" \")\n",
    "        else: \n",
    "            print(s1[i-1] + \"  \", end=\"\")\n",
    "        for j in range(n+1):\n",
    "            if i == j:\n",
    "                print(\"\" + str(dp[i][j]) + \"\", end=\" \")\n",
    "            else:\n",
    "                print(dp[i][j], end=\" \")\n",
    "        print()\n",
    "\n",
    "    return dp[m][n]"
   ]
  },
  {
   "cell_type": "code",
   "execution_count": 2,
   "id": "3f807d5b",
   "metadata": {
    "colab": {
     "base_uri": "https://localhost:8080/"
    },
    "executionInfo": {
     "elapsed": 7,
     "status": "ok",
     "timestamp": 1682717860907,
     "user": {
      "displayName": "Αντώνης Μαυρίδης",
      "userId": "12394221797347324035"
     },
     "user_tz": -180
    },
    "id": "3f807d5b",
    "outputId": "614723ae-4495-44b1-d307-0402c6b6b326"
   },
   "outputs": [
    {
     "name": "stdout",
     "output_type": "stream",
     "text": [
      "Levenshtein table: \n",
      "\n",
      "   # e i n s t e i n\n",
      "#  0 1 2 3 4 5 6 7 8 \n",
      "f  1 2 3 4 5 6 7 8 9 \n",
      "e  2 1 2 3 4 5 6 7 8 \n",
      "i  3 2 1 2 3 4 5 6 7 \n",
      "n  4 3 2 1 2 3 4 5 6 \n",
      "t  5 4 3 2 3 2 3 4 5 \n",
      "i  6 5 4 3 4 3 4 3 4 \n",
      "n  7 6 5 4 5 4 5 4 3 \n",
      "g  8 7 6 5 6 5 6 5 4 \n",
      "\n",
      "Levenshtein distance between feinting and einstein is 4\n"
     ]
    }
   ],
   "source": [
    "s1 = \"feinting\"\n",
    "s2 = \"einstein\"\n",
    "distance = levenshtein_distance(s1, s2, ins_cost=1, del_cost=1, sub_cost=2)\n",
    "print(\"\\nLevenshtein distance between\", s1, \"and\", s2, \"is\", distance)"
   ]
  },
  {
   "cell_type": "markdown",
   "id": "13074d24",
   "metadata": {
    "id": "13074d24"
   },
   "source": [
    "The **levenshtein_distance_in_vocabulary** functions calculates the Levenshtein distance between a **word w** and all words in a **vocabulary V**, <ins>with a maximum allowed distance of **d**</ins>. The function takes in several optional arguments for the cost of different operations: **ins_cost** for the cost of an <ins>insertion</ins>, **del_cost**, for the cost of a <ins>deletion</ins>, and **,sub_cost**, for the cost of a <ins>substitution</ins>.\n",
    "\n",
    "The function first initializes an empty list matches to store all words in the vocabulary that have a Levenshtein distance less than or equal to **d** from **w**.\n",
    "\n",
    "The function proceeds to calculate the Levenshtein distance between **w** and **v** using a dynamic programming approach. The function initializes a **matrix dp** with dimensions **(m+1)** x **(n+1)**, where **m** is the length of **w** and **n** is the length of **v**. The function then fills in the matrix using a nested loop, similar to the first function we looked at.\n",
    "\n",
    "If the Levenshtein distance between **w** and **v** is less than or equal to **d**, the function adds **v** to the matches list. Finally, the function prints out the Levenshtein table for each pair of words and returns the matches list containing all words in the vocabulary that have a Levenshtein distance less than or equal to **d** from **w**."
   ]
  },
  {
   "cell_type": "code",
   "execution_count": 3,
   "id": "26c7f772",
   "metadata": {
    "executionInfo": {
     "elapsed": 13,
     "status": "ok",
     "timestamp": 1682706847014,
     "user": {
      "displayName": "Αντώνης Μαυρίδης",
      "userId": "12394221797347324035"
     },
     "user_tz": -180
    },
    "id": "26c7f772"
   },
   "outputs": [],
   "source": [
    "def levenshtein_distance_in_vocabulary(w, V, d, ins_cost, del_cost, sub_cost):\n",
    "    matches = []\n",
    "    for v in V:\n",
    "        m = len(w)\n",
    "        n = len(v)\n",
    "        dp = [[0 for j in range(n+1)] for i in range(m+1)]\n",
    "        for i in range(1, m+1):\n",
    "            dp[i][0] = i * del_cost\n",
    "        for j in range(1, n+1):\n",
    "            dp[0][j] = j * ins_cost\n",
    "        for i in range(1, m+1):\n",
    "            for j in range(1, n+1):\n",
    "                if w[i-1] == v[j-1]:\n",
    "                    dp[i][j] = dp[i-1][j-1]\n",
    "                else:\n",
    "                    del_distance = dp[i-1][j] + del_cost\n",
    "                    ins_distance = dp[i][j-1] + ins_cost\n",
    "                    sub_distance = dp[i-1][j-1] + sub_cost\n",
    "                    dp[i][j] = min(del_distance, ins_distance, sub_distance)\n",
    "        if dp[-1][-1] <= d:\n",
    "            matches.append(v)\n",
    "            \n",
    "        # Display the Levenshtein table \n",
    "        print(\"Levenshtein table for word '{}', vocabulary word '{}':\".format(w, v))\n",
    "        print(\"   # \" + \" \".join(list(v)))\n",
    "        for i in range(m+1):\n",
    "            if i == 0:\n",
    "                print(\"#\" + \" \", end=\" \")\n",
    "            else:\n",
    "                print(w[i-1] + \"  \", end=\"\")\n",
    "            for j in range(n+1):\n",
    "                if i == j:\n",
    "                    print(\"\" + str(dp[i][j]) + \"\", end=\" \")\n",
    "                else:\n",
    "                    print(dp[i][j], end=\" \")\n",
    "            print()\n",
    "    return matches\n"
   ]
  },
  {
   "cell_type": "code",
   "execution_count": 4,
   "id": "7f73ed9a",
   "metadata": {
    "colab": {
     "base_uri": "https://localhost:8080/"
    },
    "executionInfo": {
     "elapsed": 14,
     "status": "ok",
     "timestamp": 1682706848775,
     "user": {
      "displayName": "Αντώνης Μαυρίδης",
      "userId": "12394221797347324035"
     },
     "user_tz": -180
    },
    "id": "7f73ed9a",
    "outputId": "7bfb5e07-33a0-4855-bc4b-ae5dc5328a1d"
   },
   "outputs": [
    {
     "name": "stdout",
     "output_type": "stream",
     "text": [
      "Levenshtein table for word 'book', vocabulary word 'back':\n",
      "   # b a c k\n",
      "#  0 1 2 3 4 \n",
      "b  1 0 1 2 3 \n",
      "o  2 1 2 3 4 \n",
      "o  3 2 3 4 5 \n",
      "k  4 3 4 5 4 \n",
      "Levenshtein table for word 'book', vocabulary word 'look':\n",
      "   # l o o k\n",
      "#  0 1 2 3 4 \n",
      "b  1 2 3 4 5 \n",
      "o  2 3 2 3 4 \n",
      "o  3 4 3 2 3 \n",
      "k  4 5 4 3 2 \n",
      "Levenshtein table for word 'book', vocabulary word 'boot':\n",
      "   # b o o t\n",
      "#  0 1 2 3 4 \n",
      "b  1 0 1 2 3 \n",
      "o  2 1 0 1 2 \n",
      "o  3 2 1 0 1 \n",
      "k  4 3 2 1 2 \n",
      "Levenshtein table for word 'book', vocabulary word 'bake':\n",
      "   # b a k e\n",
      "#  0 1 2 3 4 \n",
      "b  1 0 1 2 3 \n",
      "o  2 1 2 3 4 \n",
      "o  3 2 3 4 5 \n",
      "k  4 3 4 3 4 \n",
      "Levenshtein table for word 'book', vocabulary word 'took':\n",
      "   # t o o k\n",
      "#  0 1 2 3 4 \n",
      "b  1 2 3 4 5 \n",
      "o  2 3 2 3 4 \n",
      "o  3 4 3 2 3 \n",
      "k  4 5 4 3 2 \n",
      "Levenshtein table for word 'book', vocabulary word 'bookstore':\n",
      "   # b o o k s t o r e\n",
      "#  0 1 2 3 4 5 6 7 8 9 \n",
      "b  1 0 1 2 3 4 5 6 7 8 \n",
      "o  2 1 0 1 2 3 4 5 6 7 \n",
      "o  3 2 1 0 1 2 3 4 5 6 \n",
      "k  4 3 2 1 0 1 2 3 4 5 \n",
      "Levenshtein table for word 'book', vocabulary word 'reboot':\n",
      "   # r e b o o t\n",
      "#  0 1 2 3 4 5 6 \n",
      "b  1 2 3 2 3 4 5 \n",
      "o  2 3 4 3 2 3 4 \n",
      "o  3 4 5 4 3 2 3 \n",
      "k  4 5 6 5 4 3 4 \n",
      "Levenshtein table for word 'book', vocabulary word 'wood':\n",
      "   # w o o d\n",
      "#  0 1 2 3 4 \n",
      "b  1 2 3 4 5 \n",
      "o  2 3 2 3 4 \n",
      "o  3 4 3 2 3 \n",
      "k  4 5 4 3 4 \n",
      "Levenshtein table for word 'book', vocabulary word 'repeat':\n",
      "   # r e p e a t\n",
      "#  0 1 2 3 4 5 6 \n",
      "b  1 2 3 4 5 6 7 \n",
      "o  2 3 4 5 6 7 8 \n",
      "o  3 4 5 6 7 8 9 \n",
      "k  4 5 6 7 8 9 10 \n",
      "Levenshtein table for word 'book', vocabulary word 'science':\n",
      "   # s c i e n c e\n",
      "#  0 1 2 3 4 5 6 7 \n",
      "b  1 2 3 4 5 6 7 8 \n",
      "o  2 3 4 5 6 7 8 9 \n",
      "o  3 4 5 6 7 8 9 10 \n",
      "k  4 5 6 7 8 9 10 11 \n",
      "\n",
      "The words of V whose Levenshtein distance to w is up to d=2 are: ['look', 'boot', 'took']\n"
     ]
    }
   ],
   "source": [
    "w = \"book\"\n",
    "V = [\"back\", \"look\", \"boot\", \"bake\", \"took\", \"bookstore\",\"reboot\",\"wood\",\"repeat\",\"science\"]\n",
    "d = 2\n",
    "\n",
    "matched_words = levenshtein_distance_in_vocabulary(w, V, d, ins_cost=1, del_cost=1, sub_cost=2)\n",
    "print(f\"\\nThe words of V whose Levenshtein distance to w is up to d={d} are:\", matched_words)\n"
   ]
  }
 ],
 "metadata": {
  "colab": {
   "provenance": [],
   "toc_visible": true
  },
  "kernelspec": {
   "display_name": "Python 3 (ipykernel)",
   "language": "python",
   "name": "python3"
  },
  "language_info": {
   "codemirror_mode": {
    "name": "ipython",
    "version": 3
   },
   "file_extension": ".py",
   "mimetype": "text/x-python",
   "name": "python",
   "nbconvert_exporter": "python",
   "pygments_lexer": "ipython3",
   "version": "3.10.4"
  }
 },
 "nbformat": 4,
 "nbformat_minor": 5
}
